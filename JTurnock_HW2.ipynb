{
 "cells": [
  {
   "cell_type": "markdown",
   "id": "64d441f9",
   "metadata": {},
   "source": [
    "# HW 2\n",
    "\n",
    "Analyst: Josh Turnock\n",
    "\n",
    "Description: HW2\n",
    "\n",
    "Due Date: 10/1/23\n",
    "\n",
    "## Academic Integrity Statement\n",
    "\n",
    ">By sumbitting this code for grading, I confirm the following:\n",
    "> - that this Notebook represents my own unique code created as a solution to the assigned problem.\n",
    "> - that this Notebook was created specifically to satisfy the requirements detailed in this assignment.\n",
    ">\n",
    ">Other than the textbook and matieral presented during our class sessions, I received help in designing and debugging my code from the following peopele and/or websites:\n",
    ">\n",
    ">1. None"
   ]
  },
  {
   "cell_type": "code",
   "execution_count": 5,
   "id": "4220966b",
   "metadata": {},
   "outputs": [
    {
     "name": "stdout",
     "output_type": "stream",
     "text": [
      "What is your total budget amount?: 1400\n",
      "Enter an expense value: 135\n",
      "Do you have any more expenses to enter? (y or n) y\n",
      "Enter an expense value: 400\n",
      "Do you have any more expenses to enter? (y or n) y\n",
      "Enter an expense value: 812\n",
      "Do you have any more expenses to enter? (y or n) y\n",
      "Enter an expense value: 177\n",
      "Do you have any more expenses to enter? (y or n) -1\n",
      "Total budget entered\t : $1,400\n",
      "Total of expenses entered: $1,524\n",
      "You are $124 over budget.\n"
     ]
    }
   ],
   "source": [
    "# Ask user for budget amount\n",
    "budget_amount = int(input(\"What is your total budget amount?: \"))\n",
    "\n",
    "# create blank list\n",
    "expense_amount_list = []\n",
    "\n",
    "total = 0 \n",
    "\n",
    "# get sentinel value\n",
    "keep_going = \"y\"\n",
    "\n",
    "while keep_going == \"y\":\n",
    "    enter = int(input(\"Enter an expense value: \"))\n",
    "    keep_going = input(\"Do you have any more expenses to enter? (y or n) \").lower()\n",
    "    expense_amount_list.append(enter)\n",
    "    \n",
    "for item in expense_amount_list:\n",
    "    total += item\n",
    "\n",
    "# If statement to figure out status of budget \n",
    "if total == budget_amount: \n",
    "    budget_status = total - budget_amount\n",
    "    status_name = 'on'\n",
    "elif total > budget_amount: \n",
    "    budget_status = abs(total - budget_amount)\n",
    "    status_name = 'over'\n",
    "else:\n",
    "    budget_status = abs(total - budget_amount)\n",
    "    status_name = 'under'\n",
    "\n",
    "# Display results\n",
    "print(f\"Total budget entered\\t : ${budget_amount:,}\")\n",
    "print(f\"Total of expenses entered: ${total:,}\")\n",
    "print(f\"You are ${budget_status} {status_name} budget.\")\n"
   ]
  },
  {
   "cell_type": "code",
   "execution_count": null,
   "id": "1846d4b4",
   "metadata": {},
   "outputs": [],
   "source": []
  }
 ],
 "metadata": {
  "kernelspec": {
   "display_name": "Python 3 (ipykernel)",
   "language": "python",
   "name": "python3"
  },
  "language_info": {
   "codemirror_mode": {
    "name": "ipython",
    "version": 3
   },
   "file_extension": ".py",
   "mimetype": "text/x-python",
   "name": "python",
   "nbconvert_exporter": "python",
   "pygments_lexer": "ipython3",
   "version": "3.11.4"
  }
 },
 "nbformat": 4,
 "nbformat_minor": 5
}
