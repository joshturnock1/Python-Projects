{
 "cells": [
  {
   "cell_type": "markdown",
   "id": "54a7860a",
   "metadata": {},
   "source": [
    "# HW 1 \n",
    "\n",
    "Analyst: Josh Turnock\n",
    "\n",
    "Description: Homework 1\n",
    "\n",
    "Due Date: 9/17/23\n",
    "\n",
    "## Academic Integrity Statement\n",
    "\n",
    ">By sumbitting this code for grading, I confirm the following:\n",
    "> - that this Notebook represents my own unique code created as a solution to the assigned problem.\n",
    "> - that this Notebook was created specifically to satisfy the requirements detailed in this assignment.\n",
    ">\n",
    ">Other than the textbook and matieral presented during our class sessions, I received help in designing and debugging my code from the following peopele and/or websites:\n",
    ">\n",
    ">1. None"
   ]
  },
  {
   "cell_type": "code",
   "execution_count": null,
   "id": "634ddc7c",
   "metadata": {},
   "outputs": [],
   "source": [
    "#name constants\n",
    "COMMISSION = 0.03\n",
    "\n",
    "#get input values\n",
    "num_of_shares = float(input(\"Number of shares: \"))\n",
    "purchase_price = float(input(\"Purchase price per share: \"))\n",
    "sale_price = float(input(\"Sale price per share: \"))\n",
    "\n",
    "#add space\n",
    "print('')\n",
    "\n",
    "print(\"Stock purchase\")\n",
    "print(\"--------------\")\n",
    "\n",
    "#calculations\n",
    "amount_paid = num_of_shares * purchase_price\n",
    "print(\"Amount paid for the shares:\", amount_paid)\n",
    "\n",
    "comm_paid_purchase = amount_paid * COMMISSION\n",
    "print(\"Commission paid:\", comm_paid_purchase)\n",
    "\n",
    "total_paid = amount_paid + comm_paid_purchase\n",
    "print(\"Total amount paid to purchase share:\", total_paid)\n",
    "\n",
    "#blank line\n",
    "print('')\n",
    "\n",
    "print(\"Stock Sale\")\n",
    "print(\"--------------\")\n",
    "\n",
    "#blank line\n",
    "print('')\n",
    "\n",
    "amount_rec = num_of_shares * sale_price\n",
    "print(\"Amount received for shares:\", amount_rec)\n",
    "\n",
    "comm_paid_sale = amount_rec * COMMISSION\n",
    "print(\"Commission paid:\", comm_paid_sale)\n",
    "\n",
    "net_amount_rec = amount_rec - comm_paid_sale\n",
    "print(\"Net amount received from sale of shares:\", net_amount_rec)\n",
    "\n",
    "#blank line\n",
    "print('')\n",
    "\n",
    "net_result = net_amount_rec - total_paid\n",
    "print(\"Net result after buying and selling shares:\", net_result)"
   ]
  },
  {
   "cell_type": "markdown",
   "id": "20eaca14",
   "metadata": {},
   "source": []
  },
  {
   "cell_type": "code",
   "execution_count": null,
   "id": "895d446f",
   "metadata": {},
   "outputs": [],
   "source": []
  }
 ],
 "metadata": {
  "kernelspec": {
   "display_name": "Python 3 (ipykernel)",
   "language": "python",
   "name": "python3"
  },
  "language_info": {
   "codemirror_mode": {
    "name": "ipython",
    "version": 3
   },
   "file_extension": ".py",
   "mimetype": "text/x-python",
   "name": "python",
   "nbconvert_exporter": "python",
   "pygments_lexer": "ipython3",
   "version": "3.11.4"
  }
 },
 "nbformat": 4,
 "nbformat_minor": 5
}
